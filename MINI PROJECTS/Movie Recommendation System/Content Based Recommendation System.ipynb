{
 "cells": [
  {
   "cell_type": "markdown",
   "metadata": {},
   "source": [
    "# There are 2 types of reccomendation systems - Content based and collaborative filtering.\n",
    "## Content based R.S. , suggests a user a product which is popular .Like u1 likes apple,orange and banana , similarly u2 likes apple and orange , and lastly u3 likes only apple so our content based R.S. will tell u3 to purchase orange too.\n",
    "## Collaborative filtering is like u1 likes pizza , burger and coke and u2 likes pizza and burger but has never tried coke so our collaborative filtering would reccoent u2 coke.Collaborative filtering gives more better result and is used frequently. Collaborative filtering is further classified into - Model based and memory based."
   ]
  },
  {
   "cell_type": "code",
   "execution_count": 2,
   "metadata": {},
   "outputs": [],
   "source": [
    "import numpy as np\n",
    "import pandas as pd\n",
    "import warnings"
   ]
  },
  {
   "cell_type": "code",
   "execution_count": 3,
   "metadata": {},
   "outputs": [],
   "source": [
    "# We can ignore warning by using warnings.filterwarnongs('ignore')"
   ]
  },
  {
   "cell_type": "markdown",
   "metadata": {},
   "source": [
    "# Getting the dataset , Our file is not csv but when we see that the dataset is tab seperated and hence we pass an argument as sep so that our file can be read easily."
   ]
  },
  {
   "cell_type": "code",
   "execution_count": 11,
   "metadata": {},
   "outputs": [],
   "source": [
    "column_names = [\"user_id\",\"item_id\",\"rating\",\"timestamp\"] # This is given in the description of the file so we can add columns\n",
    "# by passing it as argument when creating the dataframe.\n",
    "df = pd.read_csv(\"ml-100k/u.data\",sep='\\t',names = column_names) "
   ]
  },
  {
   "cell_type": "code",
   "execution_count": 12,
   "metadata": {},
   "outputs": [
    {
     "data": {
      "text/html": [
       "<div>\n",
       "<style scoped>\n",
       "    .dataframe tbody tr th:only-of-type {\n",
       "        vertical-align: middle;\n",
       "    }\n",
       "\n",
       "    .dataframe tbody tr th {\n",
       "        vertical-align: top;\n",
       "    }\n",
       "\n",
       "    .dataframe thead th {\n",
       "        text-align: right;\n",
       "    }\n",
       "</style>\n",
       "<table border=\"1\" class=\"dataframe\">\n",
       "  <thead>\n",
       "    <tr style=\"text-align: right;\">\n",
       "      <th></th>\n",
       "      <th>user_id</th>\n",
       "      <th>item_id</th>\n",
       "      <th>rating</th>\n",
       "      <th>timestamp</th>\n",
       "    </tr>\n",
       "  </thead>\n",
       "  <tbody>\n",
       "    <tr>\n",
       "      <th>0</th>\n",
       "      <td>196</td>\n",
       "      <td>242</td>\n",
       "      <td>3</td>\n",
       "      <td>881250949</td>\n",
       "    </tr>\n",
       "    <tr>\n",
       "      <th>1</th>\n",
       "      <td>186</td>\n",
       "      <td>302</td>\n",
       "      <td>3</td>\n",
       "      <td>891717742</td>\n",
       "    </tr>\n",
       "    <tr>\n",
       "      <th>2</th>\n",
       "      <td>22</td>\n",
       "      <td>377</td>\n",
       "      <td>1</td>\n",
       "      <td>878887116</td>\n",
       "    </tr>\n",
       "    <tr>\n",
       "      <th>3</th>\n",
       "      <td>244</td>\n",
       "      <td>51</td>\n",
       "      <td>2</td>\n",
       "      <td>880606923</td>\n",
       "    </tr>\n",
       "    <tr>\n",
       "      <th>4</th>\n",
       "      <td>166</td>\n",
       "      <td>346</td>\n",
       "      <td>1</td>\n",
       "      <td>886397596</td>\n",
       "    </tr>\n",
       "  </tbody>\n",
       "</table>\n",
       "</div>"
      ],
      "text/plain": [
       "   user_id  item_id  rating  timestamp\n",
       "0      196      242       3  881250949\n",
       "1      186      302       3  891717742\n",
       "2       22      377       1  878887116\n",
       "3      244       51       2  880606923\n",
       "4      166      346       1  886397596"
      ]
     },
     "execution_count": 12,
     "metadata": {},
     "output_type": "execute_result"
    }
   ],
   "source": [
    "df.head()"
   ]
  },
  {
   "cell_type": "code",
   "execution_count": 8,
   "metadata": {},
   "outputs": [
    {
     "data": {
      "text/plain": [
       "(99999, 4)"
      ]
     },
     "execution_count": 8,
     "metadata": {},
     "output_type": "execute_result"
    }
   ],
   "source": [
    "df.shape"
   ]
  },
  {
   "cell_type": "code",
   "execution_count": 13,
   "metadata": {},
   "outputs": [
    {
     "data": {
      "text/plain": [
       "943"
      ]
     },
     "execution_count": 13,
     "metadata": {},
     "output_type": "execute_result"
    }
   ],
   "source": [
    "# finding the unique user\n",
    "df['user_id'].nunique() "
   ]
  },
  {
   "cell_type": "code",
   "execution_count": 14,
   "metadata": {},
   "outputs": [
    {
     "data": {
      "text/plain": [
       "1682"
      ]
     },
     "execution_count": 14,
     "metadata": {},
     "output_type": "execute_result"
    }
   ],
   "source": [
    "# Finding unique movies i.e. item_id\n",
    "df['item_id'].nunique()"
   ]
  },
  {
   "cell_type": "code",
   "execution_count": 22,
   "metadata": {},
   "outputs": [
    {
     "name": "stdout",
     "output_type": "stream",
     "text": [
      "        0                                          1            2   3   \\\n",
      "0        1                           Toy Story (1995)  01-Jan-1995 NaN   \n",
      "1        2                           GoldenEye (1995)  01-Jan-1995 NaN   \n",
      "2        3                          Four Rooms (1995)  01-Jan-1995 NaN   \n",
      "3        4                          Get Shorty (1995)  01-Jan-1995 NaN   \n",
      "4        5                             Copycat (1995)  01-Jan-1995 NaN   \n",
      "...    ...                                        ...          ...  ..   \n",
      "1677  1678                          Mat' i syn (1997)  06-Feb-1998 NaN   \n",
      "1678  1679                           B. Monkey (1998)  06-Feb-1998 NaN   \n",
      "1679  1680                       Sliding Doors (1998)  01-Jan-1998 NaN   \n",
      "1680  1681                        You So Crazy (1994)  01-Jan-1994 NaN   \n",
      "1681  1682  Scream of Stone (Schrei aus Stein) (1991)  08-Mar-1996 NaN   \n",
      "\n",
      "                                                     4   5   6   7   8   9   \\\n",
      "0     http://us.imdb.com/M/title-exact?Toy%20Story%2...   0   0   0   1   1   \n",
      "1     http://us.imdb.com/M/title-exact?GoldenEye%20(...   0   1   1   0   0   \n",
      "2     http://us.imdb.com/M/title-exact?Four%20Rooms%...   0   0   0   0   0   \n",
      "3     http://us.imdb.com/M/title-exact?Get%20Shorty%...   0   1   0   0   0   \n",
      "4     http://us.imdb.com/M/title-exact?Copycat%20(1995)   0   0   0   0   0   \n",
      "...                                                 ...  ..  ..  ..  ..  ..   \n",
      "1677  http://us.imdb.com/M/title-exact?Mat%27+i+syn+...   0   0   0   0   0   \n",
      "1678  http://us.imdb.com/M/title-exact?B%2E+Monkey+(...   0   0   0   0   0   \n",
      "1679      http://us.imdb.com/Title?Sliding+Doors+(1998)   0   0   0   0   0   \n",
      "1680  http://us.imdb.com/M/title-exact?You%20So%20Cr...   0   0   0   0   0   \n",
      "1681  http://us.imdb.com/M/title-exact?Schrei%20aus%...   0   0   0   0   0   \n",
      "\n",
      "      ...  14  15  16  17  18  19  20  21  22  23  \n",
      "0     ...   0   0   0   0   0   0   0   0   0   0  \n",
      "1     ...   0   0   0   0   0   0   0   1   0   0  \n",
      "2     ...   0   0   0   0   0   0   0   1   0   0  \n",
      "3     ...   0   0   0   0   0   0   0   0   0   0  \n",
      "4     ...   0   0   0   0   0   0   0   1   0   0  \n",
      "...   ...  ..  ..  ..  ..  ..  ..  ..  ..  ..  ..  \n",
      "1677  ...   0   0   0   0   0   0   0   0   0   0  \n",
      "1678  ...   0   0   0   0   0   1   0   1   0   0  \n",
      "1679  ...   0   0   0   0   0   1   0   0   0   0  \n",
      "1680  ...   0   0   0   0   0   0   0   0   0   0  \n",
      "1681  ...   0   0   0   0   0   0   0   0   0   0  \n",
      "\n",
      "[1682 rows x 24 columns]\n"
     ]
    },
    {
     "name": "stderr",
     "output_type": "stream",
     "text": [
      "<ipython-input-22-8795cb5f421e>:1: ParserWarning: Falling back to the 'python' engine because the 'c' engine does not support regex separators (separators > 1 char and different from '\\s+' are interpreted as regex); you can avoid this warning by specifying engine='python'.\n",
      "  movies_titles = pd.read_csv(\"ml-100k/u.item\",sep=\"\\|\",header = None) # Seeing item_no associated with which movie\n"
     ]
    }
   ],
   "source": [
    "movies_titles = pd.read_csv(\"ml-100k/u.item\",sep=\"\\|\",header = None) # Seeing item_no associated with which movie\n",
    "print(movies_titles)"
   ]
  },
  {
   "cell_type": "code",
   "execution_count": 24,
   "metadata": {},
   "outputs": [
    {
     "name": "stdout",
     "output_type": "stream",
     "text": [
      "   item_id              title\n",
      "0        1   Toy Story (1995)\n",
      "1        2   GoldenEye (1995)\n",
      "2        3  Four Rooms (1995)\n",
      "3        4  Get Shorty (1995)\n",
      "4        5     Copycat (1995)\n"
     ]
    }
   ],
   "source": [
    "# Now we just need movie number i.e. item_no and the title of that movie\n",
    "movies_titles = movies_titles[[0,1]]\n",
    "movies_titles.columns = ['item_id','title']\n",
    "print(movies_titles.head())"
   ]
  },
  {
   "cell_type": "markdown",
   "metadata": {},
   "source": [
    "# merging two dataframes i.e. df and movies_title"
   ]
  },
  {
   "cell_type": "code",
   "execution_count": 25,
   "metadata": {},
   "outputs": [
    {
     "data": {
      "text/html": [
       "<div>\n",
       "<style scoped>\n",
       "    .dataframe tbody tr th:only-of-type {\n",
       "        vertical-align: middle;\n",
       "    }\n",
       "\n",
       "    .dataframe tbody tr th {\n",
       "        vertical-align: top;\n",
       "    }\n",
       "\n",
       "    .dataframe thead th {\n",
       "        text-align: right;\n",
       "    }\n",
       "</style>\n",
       "<table border=\"1\" class=\"dataframe\">\n",
       "  <thead>\n",
       "    <tr style=\"text-align: right;\">\n",
       "      <th></th>\n",
       "      <th>user_id</th>\n",
       "      <th>item_id</th>\n",
       "      <th>rating</th>\n",
       "      <th>timestamp</th>\n",
       "      <th>title</th>\n",
       "    </tr>\n",
       "  </thead>\n",
       "  <tbody>\n",
       "    <tr>\n",
       "      <th>99995</th>\n",
       "      <td>840</td>\n",
       "      <td>1674</td>\n",
       "      <td>4</td>\n",
       "      <td>891211682</td>\n",
       "      <td>Mamma Roma (1962)</td>\n",
       "    </tr>\n",
       "    <tr>\n",
       "      <th>99996</th>\n",
       "      <td>655</td>\n",
       "      <td>1640</td>\n",
       "      <td>3</td>\n",
       "      <td>888474646</td>\n",
       "      <td>Eighth Day, The (1996)</td>\n",
       "    </tr>\n",
       "    <tr>\n",
       "      <th>99997</th>\n",
       "      <td>655</td>\n",
       "      <td>1637</td>\n",
       "      <td>3</td>\n",
       "      <td>888984255</td>\n",
       "      <td>Girls Town (1996)</td>\n",
       "    </tr>\n",
       "    <tr>\n",
       "      <th>99998</th>\n",
       "      <td>655</td>\n",
       "      <td>1630</td>\n",
       "      <td>3</td>\n",
       "      <td>887428735</td>\n",
       "      <td>Silence of the Palace, The (Saimt el Qusur) (1...</td>\n",
       "    </tr>\n",
       "    <tr>\n",
       "      <th>99999</th>\n",
       "      <td>655</td>\n",
       "      <td>1641</td>\n",
       "      <td>3</td>\n",
       "      <td>887427810</td>\n",
       "      <td>Dadetown (1995)</td>\n",
       "    </tr>\n",
       "  </tbody>\n",
       "</table>\n",
       "</div>"
      ],
      "text/plain": [
       "       user_id  item_id  rating  timestamp  \\\n",
       "99995      840     1674       4  891211682   \n",
       "99996      655     1640       3  888474646   \n",
       "99997      655     1637       3  888984255   \n",
       "99998      655     1630       3  887428735   \n",
       "99999      655     1641       3  887427810   \n",
       "\n",
       "                                                   title  \n",
       "99995                                  Mamma Roma (1962)  \n",
       "99996                             Eighth Day, The (1996)  \n",
       "99997                                  Girls Town (1996)  \n",
       "99998  Silence of the Palace, The (Saimt el Qusur) (1...  \n",
       "99999                                    Dadetown (1995)  "
      ]
     },
     "execution_count": 25,
     "metadata": {},
     "output_type": "execute_result"
    }
   ],
   "source": [
    "df = pd.merge(df,movies_titles,on = \"item_id\") # on is parameter which shows that on whivh basis df will merge\n",
    "df.tail()"
   ]
  },
  {
   "cell_type": "markdown",
   "metadata": {},
   "source": [
    "# Exploratory data Analysis"
   ]
  },
  {
   "cell_type": "code",
   "execution_count": null,
   "metadata": {},
   "outputs": [],
   "source": []
  }
 ],
 "metadata": {
  "kernelspec": {
   "display_name": "Python 3",
   "language": "python",
   "name": "python3"
  },
  "language_info": {
   "codemirror_mode": {
    "name": "ipython",
    "version": 3
   },
   "file_extension": ".py",
   "mimetype": "text/x-python",
   "name": "python",
   "nbconvert_exporter": "python",
   "pygments_lexer": "ipython3",
   "version": "3.8.2"
  }
 },
 "nbformat": 4,
 "nbformat_minor": 4
}
