{
 "cells": [
  {
   "cell_type": "code",
   "execution_count": 1,
   "id": "c25c092c",
   "metadata": {},
   "outputs": [],
   "source": [
    "import logging\n",
    "from telegram.ext import Updater"
   ]
  },
  {
   "cell_type": "markdown",
   "id": "7c667dd4",
   "metadata": {},
   "source": [
    "# This would tell us all the log when our bot is running , asctime is the time at which the event happened , name of the fuinction or any class due to which the event happened , loging can have multiple levels according to which importance is given , a message "
   ]
  },
  {
   "cell_type": "code",
   "execution_count": 2,
   "id": "3370446a",
   "metadata": {},
   "outputs": [],
   "source": [
    "logging.basicConfig(format='%(asctime)s - %(name)s - %(levelname)s - %(message)s',level=logging.INFO)\n",
    "logger = logging.getLogger(__name__)"
   ]
  },
  {
   "cell_type": "code",
   "execution_count": 3,
   "id": "5447816f",
   "metadata": {},
   "outputs": [],
   "source": [
    "TOKEN = \"1803739562:AAHkk5apFkseRL55sGjjUV9t4erSPnE634k\""
   ]
  },
  {
   "cell_type": "code",
   "execution_count": null,
   "id": "4c312c6e",
   "metadata": {},
   "outputs": [],
   "source": [
    "# Handler function would always get bot and update as argument\n",
    "def start(bot,update):\n",
    "    print(update)\n",
    "    reply = \n",
    "    "
   ]
  },
  {
   "cell_type": "code",
   "execution_count": null,
   "id": "342568db",
   "metadata": {},
   "outputs": [],
   "source": []
  },
  {
   "cell_type": "code",
   "execution_count": null,
   "id": "77044a96",
   "metadata": {},
   "outputs": [],
   "source": []
  },
  {
   "cell_type": "code",
   "execution_count": null,
   "id": "8e3b32ca",
   "metadata": {},
   "outputs": [],
   "source": []
  },
  {
   "cell_type": "code",
   "execution_count": null,
   "id": "7680ec3e",
   "metadata": {},
   "outputs": [],
   "source": []
  },
  {
   "cell_type": "code",
   "execution_count": null,
   "id": "132c7c44",
   "metadata": {},
   "outputs": [],
   "source": []
  },
  {
   "cell_type": "code",
   "execution_count": 4,
   "id": "68343645",
   "metadata": {},
   "outputs": [],
   "source": [
    "def main():\n",
    "    # We will have updater\n",
    "    upadter = Updater(TOKEN)\n",
    "    # Now we will also have a dispatcher\n",
    "    dp = upadter.dispatcher\n",
    "    # A dispatcher needs to have various handlers to handle commands\n",
    "    dp.add_handler(CommandHandler(\"start\",start))\n",
    "    dp.add_handler(CommandHandler(\"help\",help))\n",
    "    dp.add_handler(CommandHandler(Filters.text,echo_text))\n",
    "    dp.add_handler(CommandHandler(Filters.sticker,echo_sticker))\n",
    "    dp.add_error_handler(error)"
   ]
  },
  {
   "cell_type": "code",
   "execution_count": null,
   "id": "6c87ff65",
   "metadata": {},
   "outputs": [],
   "source": [
    "if __name__ == \"__main__\":\n",
    "    main()"
   ]
  }
 ],
 "metadata": {
  "kernelspec": {
   "display_name": "Python 3",
   "language": "python",
   "name": "python3"
  },
  "language_info": {
   "codemirror_mode": {
    "name": "ipython",
    "version": 3
   },
   "file_extension": ".py",
   "mimetype": "text/x-python",
   "name": "python",
   "nbconvert_exporter": "python",
   "pygments_lexer": "ipython3",
   "version": "3.9.4"
  }
 },
 "nbformat": 4,
 "nbformat_minor": 5
}
